{
 "cells": [
  {
   "cell_type": "markdown",
   "metadata": {},
   "source": [
    "# Case Study Objective \n",
    "\n",
    "### To Identify which customers will make a specific transaction in the future, irrespective of the amount of money transacted. \n"
   ]
  },
  {
   "cell_type": "markdown",
   "metadata": {},
   "source": [
    "# Data Overview"
   ]
  },
  {
   "cell_type": "code",
   "execution_count": 1,
   "metadata": {},
   "outputs": [],
   "source": [
    "import sklearn\n",
    "import pandas as pd\n",
    "import numpy as np\n",
    "from sklearn.model_selection import train_test_split\n",
    "import lightgbm as lgb\n",
    "import scorecardpy as sc\n",
    "from sklearn.model_selection import RandomizedSearchCV\n",
    "from sklearn.feature_selection import VarianceThreshold\n",
    "from sklearn.linear_model import LogisticRegression\n",
    "from optbinning import BinningProcess\n",
    "from xgboost import XGBClassifier\n",
    "import sweetviz as sv\n",
    "from sklearn.pipeline import Pipeline\n",
    "from sklearn.model_selection import KFold\n",
    "from sklearn.model_selection import cross_val_score\n",
    "from sklearn.model_selection import GridSearchCV\n",
    "from sklearn.metrics import roc_curve,roc_auc_score,precision_recall_curve\n",
    "import matplotlib.pyplot as plt\n",
    "import seaborn as sns\n",
    "import warnings\n",
    "warnings.simplefilter(action='ignore', category=FutureWarning)"
   ]
  },
  {
   "cell_type": "code",
   "execution_count": 2,
   "metadata": {},
   "outputs": [],
   "source": [
    "train_df = pd.read_csv(\"train.csv\")\n",
    "test_df = pd.read_csv(\"test.csv\")"
   ]
  },
  {
   "cell_type": "markdown",
   "metadata": {},
   "source": [
    "## Train data"
   ]
  },
  {
   "cell_type": "code",
   "execution_count": 3,
   "metadata": {},
   "outputs": [
    {
     "name": "stdout",
     "output_type": "stream",
     "text": [
      "Number of rows :  200000\n",
      "Number of columns :  202\n"
     ]
    }
   ],
   "source": [
    "print(\"Number of rows : \",train_df.shape[0]) \n",
    "print(\"Number of columns : \",train_df.shape[1]) "
   ]
  },
  {
   "cell_type": "code",
   "execution_count": 4,
   "metadata": {},
   "outputs": [
    {
     "data": {
      "text/html": [
       "<div>\n",
       "<style scoped>\n",
       "    .dataframe tbody tr th:only-of-type {\n",
       "        vertical-align: middle;\n",
       "    }\n",
       "\n",
       "    .dataframe tbody tr th {\n",
       "        vertical-align: top;\n",
       "    }\n",
       "\n",
       "    .dataframe thead th {\n",
       "        text-align: right;\n",
       "    }\n",
       "</style>\n",
       "<table border=\"1\" class=\"dataframe\">\n",
       "  <thead>\n",
       "    <tr style=\"text-align: right;\">\n",
       "      <th></th>\n",
       "      <th>ID_code</th>\n",
       "      <th>target</th>\n",
       "      <th>var_0</th>\n",
       "      <th>var_1</th>\n",
       "      <th>var_2</th>\n",
       "      <th>var_3</th>\n",
       "      <th>var_4</th>\n",
       "      <th>var_5</th>\n",
       "      <th>var_6</th>\n",
       "      <th>var_7</th>\n",
       "      <th>...</th>\n",
       "      <th>var_190</th>\n",
       "      <th>var_191</th>\n",
       "      <th>var_192</th>\n",
       "      <th>var_193</th>\n",
       "      <th>var_194</th>\n",
       "      <th>var_195</th>\n",
       "      <th>var_196</th>\n",
       "      <th>var_197</th>\n",
       "      <th>var_198</th>\n",
       "      <th>var_199</th>\n",
       "    </tr>\n",
       "  </thead>\n",
       "  <tbody>\n",
       "    <tr>\n",
       "      <th>0</th>\n",
       "      <td>train_0</td>\n",
       "      <td>0</td>\n",
       "      <td>8.9255</td>\n",
       "      <td>-6.7863</td>\n",
       "      <td>11.9081</td>\n",
       "      <td>5.093</td>\n",
       "      <td>11.4607</td>\n",
       "      <td>-9.2834</td>\n",
       "      <td>5.1187</td>\n",
       "      <td>18.6266</td>\n",
       "      <td>...</td>\n",
       "      <td>4.4354</td>\n",
       "      <td>3.9642</td>\n",
       "      <td>3.1364</td>\n",
       "      <td>1.6910</td>\n",
       "      <td>18.5227</td>\n",
       "      <td>-2.3978</td>\n",
       "      <td>7.8784</td>\n",
       "      <td>8.5635</td>\n",
       "      <td>12.7803</td>\n",
       "      <td>-1.0914</td>\n",
       "    </tr>\n",
       "    <tr>\n",
       "      <th>1</th>\n",
       "      <td>train_1</td>\n",
       "      <td>0</td>\n",
       "      <td>11.5006</td>\n",
       "      <td>-4.1473</td>\n",
       "      <td>13.8588</td>\n",
       "      <td>5.389</td>\n",
       "      <td>12.3622</td>\n",
       "      <td>7.0433</td>\n",
       "      <td>5.6208</td>\n",
       "      <td>16.5338</td>\n",
       "      <td>...</td>\n",
       "      <td>7.6421</td>\n",
       "      <td>7.7214</td>\n",
       "      <td>2.5837</td>\n",
       "      <td>10.9516</td>\n",
       "      <td>15.4305</td>\n",
       "      <td>2.0339</td>\n",
       "      <td>8.1267</td>\n",
       "      <td>8.7889</td>\n",
       "      <td>18.3560</td>\n",
       "      <td>1.9518</td>\n",
       "    </tr>\n",
       "  </tbody>\n",
       "</table>\n",
       "<p>2 rows × 202 columns</p>\n",
       "</div>"
      ],
      "text/plain": [
       "   ID_code  target    var_0   var_1    var_2  var_3    var_4   var_5   var_6  \\\n",
       "0  train_0       0   8.9255 -6.7863  11.9081  5.093  11.4607 -9.2834  5.1187   \n",
       "1  train_1       0  11.5006 -4.1473  13.8588  5.389  12.3622  7.0433  5.6208   \n",
       "\n",
       "     var_7  ...  var_190  var_191  var_192  var_193  var_194  var_195  \\\n",
       "0  18.6266  ...   4.4354   3.9642   3.1364   1.6910  18.5227  -2.3978   \n",
       "1  16.5338  ...   7.6421   7.7214   2.5837  10.9516  15.4305   2.0339   \n",
       "\n",
       "   var_196  var_197  var_198  var_199  \n",
       "0   7.8784   8.5635  12.7803  -1.0914  \n",
       "1   8.1267   8.7889  18.3560   1.9518  \n",
       "\n",
       "[2 rows x 202 columns]"
      ]
     },
     "execution_count": 4,
     "metadata": {},
     "output_type": "execute_result"
    }
   ],
   "source": [
    "train_df.head(2)"
   ]
  },
  {
   "cell_type": "markdown",
   "metadata": {},
   "source": [
    "ID_code represents row id <br>\n",
    "target represents the dependent variable<br>\n",
    "var_0 - var_199 are the independent variables"
   ]
  },
  {
   "cell_type": "code",
   "execution_count": 5,
   "metadata": {},
   "outputs": [],
   "source": [
    "desc_df = train_df.describe()"
   ]
  },
  {
   "cell_type": "code",
   "execution_count": 6,
   "metadata": {},
   "outputs": [
    {
     "data": {
      "text/plain": [
       "count    200000.000000\n",
       "mean        -16.548147\n",
       "std           0.007186\n",
       "min         -90.252500\n",
       "25%         -28.730700\n",
       "50%         -16.482600\n",
       "75%          -6.409375\n",
       "max           1.000000\n",
       "dtype: float64"
      ]
     },
     "execution_count": 6,
     "metadata": {},
     "output_type": "execute_result"
    }
   ],
   "source": [
    "desc_df.min(axis=1)"
   ]
  },
  {
   "cell_type": "code",
   "execution_count": 7,
   "metadata": {},
   "outputs": [
    {
     "data": {
      "text/plain": [
       "count    200000.000000\n",
       "mean         24.521078\n",
       "std          21.404912\n",
       "min          13.729000\n",
       "25%          16.047975\n",
       "50%          24.445000\n",
       "75%          33.633150\n",
       "max          74.032100\n",
       "dtype: float64"
      ]
     },
     "execution_count": 7,
     "metadata": {},
     "output_type": "execute_result"
    }
   ],
   "source": [
    "desc_df.max(axis=1)"
   ]
  },
  {
   "cell_type": "markdown",
   "metadata": {},
   "source": [
    "The data description shows a significant variability in standard deviation.<br>\n",
    "Variables with higher standard deviations have a wider spread of values, signifying greater variability.<br>\n",
    "While those with lower standard deviations have values that are more closely clustered around the mean, imply lower variability."
   ]
  },
  {
   "cell_type": "markdown",
   "metadata": {},
   "source": [
    "## Test data"
   ]
  },
  {
   "cell_type": "code",
   "execution_count": 8,
   "metadata": {},
   "outputs": [
    {
     "name": "stdout",
     "output_type": "stream",
     "text": [
      "Number of rows :  200000\n",
      "Number of columns :  201\n"
     ]
    }
   ],
   "source": [
    "print(\"Number of rows : \",test_df.shape[0]) \n",
    "print(\"Number of columns : \",test_df.shape[1]) "
   ]
  },
  {
   "cell_type": "code",
   "execution_count": 9,
   "metadata": {},
   "outputs": [
    {
     "data": {
      "text/html": [
       "<div>\n",
       "<style scoped>\n",
       "    .dataframe tbody tr th:only-of-type {\n",
       "        vertical-align: middle;\n",
       "    }\n",
       "\n",
       "    .dataframe tbody tr th {\n",
       "        vertical-align: top;\n",
       "    }\n",
       "\n",
       "    .dataframe thead th {\n",
       "        text-align: right;\n",
       "    }\n",
       "</style>\n",
       "<table border=\"1\" class=\"dataframe\">\n",
       "  <thead>\n",
       "    <tr style=\"text-align: right;\">\n",
       "      <th></th>\n",
       "      <th>ID_code</th>\n",
       "      <th>var_0</th>\n",
       "      <th>var_1</th>\n",
       "      <th>var_2</th>\n",
       "      <th>var_3</th>\n",
       "      <th>var_4</th>\n",
       "      <th>var_5</th>\n",
       "      <th>var_6</th>\n",
       "      <th>var_7</th>\n",
       "      <th>var_8</th>\n",
       "      <th>...</th>\n",
       "      <th>var_190</th>\n",
       "      <th>var_191</th>\n",
       "      <th>var_192</th>\n",
       "      <th>var_193</th>\n",
       "      <th>var_194</th>\n",
       "      <th>var_195</th>\n",
       "      <th>var_196</th>\n",
       "      <th>var_197</th>\n",
       "      <th>var_198</th>\n",
       "      <th>var_199</th>\n",
       "    </tr>\n",
       "  </thead>\n",
       "  <tbody>\n",
       "    <tr>\n",
       "      <th>0</th>\n",
       "      <td>test_0</td>\n",
       "      <td>11.0656</td>\n",
       "      <td>7.7798</td>\n",
       "      <td>12.9536</td>\n",
       "      <td>9.4292</td>\n",
       "      <td>11.4327</td>\n",
       "      <td>-2.3805</td>\n",
       "      <td>5.8493</td>\n",
       "      <td>18.2675</td>\n",
       "      <td>2.1337</td>\n",
       "      <td>...</td>\n",
       "      <td>-2.1556</td>\n",
       "      <td>11.8495</td>\n",
       "      <td>-1.4300</td>\n",
       "      <td>2.4508</td>\n",
       "      <td>13.7112</td>\n",
       "      <td>2.4669</td>\n",
       "      <td>4.3654</td>\n",
       "      <td>10.7200</td>\n",
       "      <td>15.4722</td>\n",
       "      <td>-8.7197</td>\n",
       "    </tr>\n",
       "    <tr>\n",
       "      <th>1</th>\n",
       "      <td>test_1</td>\n",
       "      <td>8.5304</td>\n",
       "      <td>1.2543</td>\n",
       "      <td>11.3047</td>\n",
       "      <td>5.1858</td>\n",
       "      <td>9.1974</td>\n",
       "      <td>-4.0117</td>\n",
       "      <td>6.0196</td>\n",
       "      <td>18.6316</td>\n",
       "      <td>-4.4131</td>\n",
       "      <td>...</td>\n",
       "      <td>10.6165</td>\n",
       "      <td>8.8349</td>\n",
       "      <td>0.9403</td>\n",
       "      <td>10.1282</td>\n",
       "      <td>15.5765</td>\n",
       "      <td>0.4773</td>\n",
       "      <td>-1.4852</td>\n",
       "      <td>9.8714</td>\n",
       "      <td>19.1293</td>\n",
       "      <td>-20.9760</td>\n",
       "    </tr>\n",
       "  </tbody>\n",
       "</table>\n",
       "<p>2 rows × 201 columns</p>\n",
       "</div>"
      ],
      "text/plain": [
       "  ID_code    var_0   var_1    var_2   var_3    var_4   var_5   var_6    var_7  \\\n",
       "0  test_0  11.0656  7.7798  12.9536  9.4292  11.4327 -2.3805  5.8493  18.2675   \n",
       "1  test_1   8.5304  1.2543  11.3047  5.1858   9.1974 -4.0117  6.0196  18.6316   \n",
       "\n",
       "    var_8  ...  var_190  var_191  var_192  var_193  var_194  var_195  var_196  \\\n",
       "0  2.1337  ...  -2.1556  11.8495  -1.4300   2.4508  13.7112   2.4669   4.3654   \n",
       "1 -4.4131  ...  10.6165   8.8349   0.9403  10.1282  15.5765   0.4773  -1.4852   \n",
       "\n",
       "   var_197  var_198  var_199  \n",
       "0  10.7200  15.4722  -8.7197  \n",
       "1   9.8714  19.1293 -20.9760  \n",
       "\n",
       "[2 rows x 201 columns]"
      ]
     },
     "execution_count": 9,
     "metadata": {},
     "output_type": "execute_result"
    }
   ],
   "source": [
    "test_df.head(2)"
   ]
  },
  {
   "cell_type": "markdown",
   "metadata": {},
   "source": [
    "Test_df doesnt have target as expected"
   ]
  },
  {
   "cell_type": "code",
   "execution_count": 10,
   "metadata": {},
   "outputs": [],
   "source": [
    "desc_test_df = test_df.describe()"
   ]
  },
  {
   "cell_type": "code",
   "execution_count": 11,
   "metadata": {},
   "outputs": [
    {
     "data": {
      "text/plain": [
       "count    200000.000000\n",
       "mean        -16.334976\n",
       "std           0.007194\n",
       "min         -83.692100\n",
       "25%         -28.673200\n",
       "50%         -16.188350\n",
       "75%          -6.207550\n",
       "max           1.516500\n",
       "dtype: float64"
      ]
     },
     "execution_count": 11,
     "metadata": {},
     "output_type": "execute_result"
    }
   ],
   "source": [
    "desc_test_df.min(axis=1)"
   ]
  },
  {
   "cell_type": "code",
   "execution_count": 12,
   "metadata": {},
   "outputs": [
    {
     "data": {
      "text/plain": [
       "count    200000.000000\n",
       "mean         24.536099\n",
       "std          21.402708\n",
       "min          13.737900\n",
       "25%          16.129275\n",
       "50%          24.426900\n",
       "75%          33.598525\n",
       "max          84.684100\n",
       "dtype: float64"
      ]
     },
     "execution_count": 12,
     "metadata": {},
     "output_type": "execute_result"
    }
   ],
   "source": [
    "desc_test_df.max(axis=1)"
   ]
  },
  {
   "cell_type": "markdown",
   "metadata": {},
   "source": [
    "In checking the statistical summary of both the training and testing datasets, it becomes evident that their data distributions exhibit similarities.<br>\n",
    "However, further investigation in subsequent sections will be conducted to assess the similiarity at a granular level."
   ]
  },
  {
   "cell_type": "markdown",
   "metadata": {},
   "source": [
    "## Target Distribution"
   ]
  },
  {
   "cell_type": "code",
   "execution_count": 13,
   "metadata": {},
   "outputs": [
    {
     "name": "stdout",
     "output_type": "stream",
     "text": [
      "Percentage of customers who made the transaction(%) :  10.049\n"
     ]
    }
   ],
   "source": [
    "print(\"Percentage of customers who made the transaction(%) : \",train_df.target.mean()*100)"
   ]
  },
  {
   "cell_type": "markdown",
   "metadata": {},
   "source": [
    "# Data Preprocessing"
   ]
  },
  {
   "cell_type": "markdown",
   "metadata": {},
   "source": [
    "## Drop variables with no information"
   ]
  },
  {
   "cell_type": "code",
   "execution_count": 14,
   "metadata": {},
   "outputs": [],
   "source": [
    "train_df.drop('ID_code',axis=1,inplace=True)"
   ]
  },
  {
   "cell_type": "markdown",
   "metadata": {},
   "source": [
    "## Checking missing values"
   ]
  },
  {
   "cell_type": "code",
   "execution_count": 15,
   "metadata": {},
   "outputs": [
    {
     "data": {
      "text/html": [
       "<div>\n",
       "<style scoped>\n",
       "    .dataframe tbody tr th:only-of-type {\n",
       "        vertical-align: middle;\n",
       "    }\n",
       "\n",
       "    .dataframe tbody tr th {\n",
       "        vertical-align: top;\n",
       "    }\n",
       "\n",
       "    .dataframe thead th {\n",
       "        text-align: right;\n",
       "    }\n",
       "</style>\n",
       "<table border=\"1\" class=\"dataframe\">\n",
       "  <thead>\n",
       "    <tr style=\"text-align: right;\">\n",
       "      <th></th>\n",
       "      <th>0</th>\n",
       "    </tr>\n",
       "  </thead>\n",
       "  <tbody>\n",
       "  </tbody>\n",
       "</table>\n",
       "</div>"
      ],
      "text/plain": [
       "Empty DataFrame\n",
       "Columns: [0]\n",
       "Index: []"
      ]
     },
     "execution_count": 15,
     "metadata": {},
     "output_type": "execute_result"
    }
   ],
   "source": [
    "missing_df = pd.DataFrame(train_df.isna().sum())\n",
    "missing_df[missing_df[0]>0]"
   ]
  },
  {
   "cell_type": "markdown",
   "metadata": {},
   "source": [
    "There are no missing values"
   ]
  },
  {
   "cell_type": "markdown",
   "metadata": {},
   "source": [
    "## Checking high correlation"
   ]
  },
  {
   "cell_type": "code",
   "execution_count": 16,
   "metadata": {},
   "outputs": [
    {
     "data": {
      "text/plain": [
       "((160000, 200), (40000, 200), (160000,), (40000,))"
      ]
     },
     "execution_count": 16,
     "metadata": {},
     "output_type": "execute_result"
    }
   ],
   "source": [
    "X_train, X_test, y_train, y_test = train_test_split(train_df.drop(['target'],axis=1), train_df['target'],test_size=0.2, random_state=456,shuffle=True,stratify=train_df['target'])\n",
    "X_train.shape, X_test.shape, y_train.shape, y_test.shape"
   ]
  },
  {
   "cell_type": "code",
   "execution_count": 17,
   "metadata": {},
   "outputs": [
    {
     "data": {
      "text/plain": [
       "[]"
      ]
     },
     "execution_count": 17,
     "metadata": {},
     "output_type": "execute_result"
    }
   ],
   "source": [
    "cor_matrix = X_train.corr().abs()\n",
    "corr_df = pd.DataFrame(cor_matrix,columns = X_train.columns,index = X_train.columns)\n",
    "upper_tri = cor_matrix.where(np.triu(np.ones(cor_matrix.shape),k=1).astype(bool))\n",
    "to_drop = [column for column in upper_tri.columns if any(upper_tri[column] >= 0.95)]\n",
    "to_drop"
   ]
  },
  {
   "cell_type": "markdown",
   "metadata": {},
   "source": [
    "No variables have high correlation(>0.95)"
   ]
  },
  {
   "cell_type": "code",
   "execution_count": 18,
   "metadata": {},
   "outputs": [
    {
     "name": "stdout",
     "output_type": "stream",
     "text": [
      "Variables with zero variance :  0\n"
     ]
    }
   ],
   "source": [
    "X_train1 = X_train\n",
    "v_thresh = VarianceThreshold(threshold = 0)\n",
    "v_thresh.fit(X_train1)\n",
    "selected_features = list(X_train1.columns[v_thresh.get_support()])\n",
    "print(\"Variables with zero variance : \",len(X_train1.columns)-len(selected_features))\n",
    "\n"
   ]
  },
  {
   "cell_type": "markdown",
   "metadata": {},
   "source": [
    "# Exploratory Data Analysis"
   ]
  },
  {
   "cell_type": "code",
   "execution_count": 19,
   "metadata": {},
   "outputs": [],
   "source": [
    "# sv_report = sv.compare(\n",
    "# [train_df.drop('target',axis=1),\"training\"],\n",
    "# [test_df,\"test\"],\n",
    "# None,pairwise_analysis='off')\n",
    "\n",
    "# name = 'EDA.html'\n",
    "# sv_report.show_html(name)"
   ]
  },
  {
   "cell_type": "markdown",
   "metadata": {},
   "source": [
    "Please refer pdf - \"EDA.html\""
   ]
  },
  {
   "cell_type": "markdown",
   "metadata": {},
   "source": [
    "I reviewed graphs for all 200 variables and observed that the data distribution is similar in both the training and test datasets"
   ]
  },
  {
   "cell_type": "markdown",
   "metadata": {},
   "source": [
    "# Feature Engineering"
   ]
  },
  {
   "cell_type": "markdown",
   "metadata": {},
   "source": [
    "## Adding general statistics"
   ]
  },
  {
   "cell_type": "code",
   "execution_count": 20,
   "metadata": {},
   "outputs": [],
   "source": [
    "og_variable_names= list(train_df.columns)\n",
    "og_variable_names.remove('target')\n",
    "\n",
    "train_df['Sum'] = train_df[og_variable_names].sum(axis=1)\n",
    "train_df['Min'] = train_df[og_variable_names].min(axis=1)\n",
    "train_df['Max'] = train_df[og_variable_names].max(axis=1)\n",
    "train_df['Mean'] = train_df[og_variable_names].mean(axis=1)\n",
    "train_df['Std'] = train_df[og_variable_names].std(axis=1)\n",
    "train_df['Skew'] = train_df[og_variable_names].skew(axis=1)\n",
    "train_df['Kurtosis'] = train_df[og_variable_names].kurt(axis=1)\n",
    "\n",
    "stats_variable_names= list(train_df.columns)\n",
    "stats_variable_names.remove('target')"
   ]
  },
  {
   "cell_type": "markdown",
   "metadata": {},
   "source": [
    "## Adding features with their WOE"
   ]
  },
  {
   "cell_type": "code",
   "execution_count": 21,
   "metadata": {},
   "outputs": [
    {
     "data": {
      "text/plain": [
       "((160000, 207), (40000, 207), (160000,), (40000,))"
      ]
     },
     "execution_count": 21,
     "metadata": {},
     "output_type": "execute_result"
    }
   ],
   "source": [
    "X_train, X_test, y_train, y_test = train_test_split(train_df.drop(['target'],axis=1), train_df['target'],test_size=0.20, random_state=456,shuffle=True,stratify=train_df['target'])\n",
    "X_train.shape, X_test.shape, y_train.shape, y_test.shape"
   ]
  },
  {
   "cell_type": "code",
   "execution_count": 22,
   "metadata": {},
   "outputs": [],
   "source": [
    "binning_process = BinningProcess(variable_names=stats_variable_names,min_bin_size = 0.05,\n",
    "                                 binning_fit_params={\"valuation\": {\"cat_cutoff\": 0.05}})\n",
    "\n",
    "binning_process.fit(X_train[stats_variable_names],y_train)\n",
    "\n",
    "\n",
    "binning_process_binning_table = pd.DataFrame()\n",
    "\n",
    "for variable in stats_variable_names:\n",
    "    optb = binning_process.get_binned_variable(name=variable)\n",
    "    binning_process_binning_table0 = optb.binning_table.build()\n",
    "    binning_process_binning_table0['variable'] = variable\n",
    "    binning_process_binning_table = pd.concat([binning_process_binning_table, binning_process_binning_table0], axis=0)"
   ]
  },
  {
   "cell_type": "code",
   "execution_count": 23,
   "metadata": {},
   "outputs": [],
   "source": [
    "X_train_bin = binning_process.transform(X_train[stats_variable_names])\n",
    "X_test_bin = binning_process.transform(X_test[stats_variable_names])"
   ]
  },
  {
   "cell_type": "code",
   "execution_count": 24,
   "metadata": {},
   "outputs": [],
   "source": [
    "X_train = X_train.join(X_train_bin,how='left', lsuffix='', rsuffix='_woe')\n",
    "X_test = X_test.join(X_test_bin,how='left', lsuffix='', rsuffix='_woe')"
   ]
  },
  {
   "cell_type": "code",
   "execution_count": 25,
   "metadata": {},
   "outputs": [],
   "source": [
    "complete_variable_names= list(X_train.columns)"
   ]
  },
  {
   "cell_type": "markdown",
   "metadata": {},
   "source": [
    "## Final overview of training dataset"
   ]
  },
  {
   "cell_type": "code",
   "execution_count": 26,
   "metadata": {},
   "outputs": [
    {
     "data": {
      "text/plain": [
       "(160000, 414)"
      ]
     },
     "execution_count": 26,
     "metadata": {},
     "output_type": "execute_result"
    }
   ],
   "source": [
    "X_train.shape"
   ]
  },
  {
   "cell_type": "code",
   "execution_count": 27,
   "metadata": {},
   "outputs": [
    {
     "data": {
      "text/html": [
       "<div>\n",
       "<style scoped>\n",
       "    .dataframe tbody tr th:only-of-type {\n",
       "        vertical-align: middle;\n",
       "    }\n",
       "\n",
       "    .dataframe tbody tr th {\n",
       "        vertical-align: top;\n",
       "    }\n",
       "\n",
       "    .dataframe thead th {\n",
       "        text-align: right;\n",
       "    }\n",
       "</style>\n",
       "<table border=\"1\" class=\"dataframe\">\n",
       "  <thead>\n",
       "    <tr style=\"text-align: right;\">\n",
       "      <th></th>\n",
       "      <th>var_0</th>\n",
       "      <th>var_1</th>\n",
       "      <th>var_2</th>\n",
       "      <th>var_3</th>\n",
       "      <th>var_4</th>\n",
       "      <th>var_5</th>\n",
       "      <th>var_6</th>\n",
       "      <th>var_7</th>\n",
       "      <th>var_8</th>\n",
       "      <th>var_9</th>\n",
       "      <th>...</th>\n",
       "      <th>var_197_woe</th>\n",
       "      <th>var_198_woe</th>\n",
       "      <th>var_199_woe</th>\n",
       "      <th>Sum_woe</th>\n",
       "      <th>Min_woe</th>\n",
       "      <th>Max_woe</th>\n",
       "      <th>Mean_woe</th>\n",
       "      <th>Std_woe</th>\n",
       "      <th>Skew_woe</th>\n",
       "      <th>Kurtosis_woe</th>\n",
       "    </tr>\n",
       "  </thead>\n",
       "  <tbody>\n",
       "    <tr>\n",
       "      <th>61895</th>\n",
       "      <td>6.3878</td>\n",
       "      <td>-1.1235</td>\n",
       "      <td>4.7372</td>\n",
       "      <td>6.6282</td>\n",
       "      <td>11.1925</td>\n",
       "      <td>-15.1934</td>\n",
       "      <td>5.2441</td>\n",
       "      <td>20.4916</td>\n",
       "      <td>-4.6741</td>\n",
       "      <td>8.3217</td>\n",
       "      <td>...</td>\n",
       "      <td>-0.481553</td>\n",
       "      <td>-0.604262</td>\n",
       "      <td>0.040851</td>\n",
       "      <td>0.077029</td>\n",
       "      <td>0.171751</td>\n",
       "      <td>-0.070992</td>\n",
       "      <td>0.077029</td>\n",
       "      <td>0.038874</td>\n",
       "      <td>0.100160</td>\n",
       "      <td>0.001384</td>\n",
       "    </tr>\n",
       "    <tr>\n",
       "      <th>154469</th>\n",
       "      <td>10.9042</td>\n",
       "      <td>2.0223</td>\n",
       "      <td>13.2297</td>\n",
       "      <td>8.9495</td>\n",
       "      <td>12.8242</td>\n",
       "      <td>-3.2768</td>\n",
       "      <td>6.3560</td>\n",
       "      <td>18.9167</td>\n",
       "      <td>4.3623</td>\n",
       "      <td>8.7805</td>\n",
       "      <td>...</td>\n",
       "      <td>-0.004795</td>\n",
       "      <td>0.132623</td>\n",
       "      <td>-0.002271</td>\n",
       "      <td>0.059331</td>\n",
       "      <td>0.052811</td>\n",
       "      <td>-0.070992</td>\n",
       "      <td>0.059331</td>\n",
       "      <td>0.065890</td>\n",
       "      <td>0.001931</td>\n",
       "      <td>0.026066</td>\n",
       "    </tr>\n",
       "  </tbody>\n",
       "</table>\n",
       "<p>2 rows × 414 columns</p>\n",
       "</div>"
      ],
      "text/plain": [
       "          var_0   var_1    var_2   var_3    var_4    var_5   var_6    var_7  \\\n",
       "61895    6.3878 -1.1235   4.7372  6.6282  11.1925 -15.1934  5.2441  20.4916   \n",
       "154469  10.9042  2.0223  13.2297  8.9495  12.8242  -3.2768  6.3560  18.9167   \n",
       "\n",
       "         var_8   var_9  ...  var_197_woe  var_198_woe  var_199_woe   Sum_woe  \\\n",
       "61895  -4.6741  8.3217  ...    -0.481553    -0.604262     0.040851  0.077029   \n",
       "154469  4.3623  8.7805  ...    -0.004795     0.132623    -0.002271  0.059331   \n",
       "\n",
       "         Min_woe   Max_woe  Mean_woe   Std_woe  Skew_woe  Kurtosis_woe  \n",
       "61895   0.171751 -0.070992  0.077029  0.038874  0.100160      0.001384  \n",
       "154469  0.052811 -0.070992  0.059331  0.065890  0.001931      0.026066  \n",
       "\n",
       "[2 rows x 414 columns]"
      ]
     },
     "execution_count": 27,
     "metadata": {},
     "output_type": "execute_result"
    }
   ],
   "source": [
    "X_train.head(2)"
   ]
  },
  {
   "cell_type": "markdown",
   "metadata": {},
   "source": [
    "Original variables - 200 <br>\n",
    "Stats variables - 7 <br>\n",
    "Binned variables - 207"
   ]
  },
  {
   "cell_type": "markdown",
   "metadata": {},
   "source": [
    "# Data Modeling"
   ]
  },
  {
   "cell_type": "code",
   "execution_count": 28,
   "metadata": {},
   "outputs": [
    {
     "data": {
      "text/plain": [
       "var_0               0\n",
       "var_1               0\n",
       "var_2               0\n",
       "var_3               0\n",
       "var_4               0\n",
       "                ...  \n",
       "Max_woe         32239\n",
       "Mean_woe        32239\n",
       "Std_woe         32239\n",
       "Skew_woe        32239\n",
       "Kurtosis_woe    32239\n",
       "Length: 414, dtype: int64"
      ]
     },
     "execution_count": 28,
     "metadata": {},
     "output_type": "execute_result"
    }
   ],
   "source": [
    "X_train.isna().sum()"
   ]
  },
  {
   "cell_type": "code",
   "execution_count": 29,
   "metadata": {},
   "outputs": [],
   "source": [
    "# WOE features have missing values\n",
    "X_train1 = X_train.fillna(0)\n",
    "X_test1 = X_test.fillna(0)"
   ]
  },
  {
   "cell_type": "markdown",
   "metadata": {},
   "source": [
    "## Logistic Regression"
   ]
  },
  {
   "cell_type": "code",
   "execution_count": 30,
   "metadata": {},
   "outputs": [
    {
     "name": "stderr",
     "output_type": "stream",
     "text": [
      "C:\\Users\\sawla\\anaconda3\\lib\\site-packages\\sklearn\\linear_model\\_logistic.py:814: ConvergenceWarning: lbfgs failed to converge (status=1):\n",
      "STOP: TOTAL NO. of ITERATIONS REACHED LIMIT.\n",
      "\n",
      "Increase the number of iterations (max_iter) or scale the data as shown in:\n",
      "    https://scikit-learn.org/stable/modules/preprocessing.html\n",
      "Please also refer to the documentation for alternative solver options:\n",
      "    https://scikit-learn.org/stable/modules/linear_model.html#logistic-regression\n",
      "  n_iter_i = _check_optimize_result(\n"
     ]
    },
    {
     "name": "stdout",
     "output_type": "stream",
     "text": [
      "Training ROC AUC score :  0.8326\n",
      "Test ROC AUC score :  0.8367\n"
     ]
    }
   ],
   "source": [
    "logR = LogisticRegression(random_state=145)\n",
    "logR.fit(X_train1, y_train)\n",
    "train_pred = logR.predict_proba(X_train1)[::,1]\n",
    "test_pred = logR.predict_proba(X_test1)[::,1]\n",
    "print(\"Training ROC AUC score : \",round(roc_auc_score(y_train,train_pred),4))\n",
    "print(\"Test ROC AUC score : \",round(roc_auc_score(y_test, test_pred),4))"
   ]
  },
  {
   "cell_type": "code",
   "execution_count": 54,
   "metadata": {},
   "outputs": [
    {
     "name": "stdout",
     "output_type": "stream",
     "text": [
      "Training ROC AUC score :  0.9821\n",
      "Test ROC AUC score :  0.866\n"
     ]
    }
   ],
   "source": [
    "xgb = XGBClassifier(random_state=145)\n",
    "xgb.fit(X_train, y_train)\n",
    "train_pred = xgb.predict_proba(X_train)[:,1]\n",
    "test_pred = xgb.predict_proba(X_test)[:,1]\n",
    "print(\"Training ROC AUC score : \",round(roc_auc_score(y_train,train_pred),4))\n",
    "print(\"Test ROC AUC score : \",round(roc_auc_score(y_test, test_pred),4))"
   ]
  },
  {
   "cell_type": "code",
   "execution_count": 32,
   "metadata": {},
   "outputs": [
    {
     "name": "stdout",
     "output_type": "stream",
     "text": [
      "Training ROC AUC score :  0.9251\n",
      "Test ROC AUC score :  0.8726\n"
     ]
    }
   ],
   "source": [
    "ligbm_model = lgb.LGBMClassifier(random_state=145)\n",
    "ligbm_model.fit(X_train, y_train)\n",
    "train_pred = ligbm_model.predict_proba(X_train)[:,1]\n",
    "test_pred = ligbm_model.predict_proba(X_test)[:,1]\n",
    "print(\"Training ROC AUC score : \",round(roc_auc_score(y_train,train_pred),4))\n",
    "print(\"Test ROC AUC score : \",round(roc_auc_score(y_test, test_pred),4))"
   ]
  },
  {
   "cell_type": "markdown",
   "metadata": {},
   "source": [
    "## LiGBM has the best performance out of all the three models\n",
    "\n",
    "|Model Name|Train AUC |Test AUC|Comments|\n",
    "| --- | --- | --- | --- |\n",
    "|Logistic Regression|0.8326|0.8367|Less predictability power|\n",
    "|XGBoost|0.9821|0.866|Overfitted model|\n",
    "|LiGBM|0.9251|0.8726|Optimal performance|"
   ]
  },
  {
   "cell_type": "markdown",
   "metadata": {},
   "source": [
    "## Feature selection"
   ]
  },
  {
   "cell_type": "code",
   "execution_count": 33,
   "metadata": {},
   "outputs": [
    {
     "name": "stdout",
     "output_type": "stream",
     "text": [
      "Training ROC AUC score :  0.9246\n",
      "Test ROC AUC score :  0.8735\n"
     ]
    }
   ],
   "source": [
    "# using original features\n",
    "ligbm_model = lgb.LGBMClassifier(random_state=145)\n",
    "ligbm_model.fit(X_train[og_variable_names], y_train)\n",
    "train_pred = ligbm_model.predict_proba(X_train[og_variable_names])[:,1]\n",
    "test_pred = ligbm_model.predict_proba(X_test[og_variable_names])[:,1]\n",
    "\n",
    "print(\"Training ROC AUC score : \",round(roc_auc_score(y_train,train_pred),4))\n",
    "print(\"Test ROC AUC score : \",round(roc_auc_score(y_test, test_pred),4))"
   ]
  },
  {
   "cell_type": "code",
   "execution_count": 34,
   "metadata": {},
   "outputs": [
    {
     "name": "stdout",
     "output_type": "stream",
     "text": [
      "Training ROC AUC score :  0.9251\n",
      "Test ROC AUC score :  0.8735\n"
     ]
    }
   ],
   "source": [
    "# using original features plus stats_variables\n",
    "ligbm_model = lgb.LGBMClassifier(random_state=145)\n",
    "ligbm_model.fit(X_train[stats_variable_names], y_train)\n",
    "train_pred = ligbm_model.predict_proba(X_train[stats_variable_names])[:,1]\n",
    "test_pred = ligbm_model.predict_proba(X_test[stats_variable_names])[:,1]\n",
    "print(\"Training ROC AUC score : \",round(roc_auc_score(y_train,train_pred),4))\n",
    "print(\"Test ROC AUC score : \",round(roc_auc_score(y_test, test_pred),4))"
   ]
  },
  {
   "cell_type": "code",
   "execution_count": 35,
   "metadata": {},
   "outputs": [
    {
     "name": "stdout",
     "output_type": "stream",
     "text": [
      "Training ROC AUC score :  0.7507\n",
      "Test ROC AUC score :  0.5458\n"
     ]
    }
   ],
   "source": [
    "stats_woe_variables = list(set((X_train.columns)) - set(og_variable_names))\n",
    "\n",
    "ligbm_model = lgb.LGBMClassifier(random_state=145)\n",
    "ligbm_model.fit(X_train[stats_woe_variables], y_train)\n",
    "train_pred = ligbm_model.predict_proba(X_train[stats_woe_variables])[:,1]\n",
    "test_pred = ligbm_model.predict_proba(X_test[stats_woe_variables])[:,1]\n",
    "print(\"Training ROC AUC score : \",round(roc_auc_score(y_train,train_pred),4))\n",
    "print(\"Test ROC AUC score : \",round(roc_auc_score(y_test, test_pred),4))"
   ]
  },
  {
   "cell_type": "markdown",
   "metadata": {},
   "source": [
    "## LiGBM with actual plus stats variables has the optimal performance\n",
    "\n",
    "|Features|Train AUC |Test AUC|Comments|\n",
    "| --- | --- | --- | --- |\n",
    "|Original Features|0.9246|0.8735|Optimal Model|\n",
    "|OG plus stats|0.9251|0.8735||\n",
    "|All features|0.9251|0.8726||\n",
    "|All features - OG|0.7555|0.5476|Unpredictive model|"
   ]
  },
  {
   "cell_type": "markdown",
   "metadata": {},
   "source": [
    "# Hyper parameter tuning with selected variables"
   ]
  },
  {
   "cell_type": "code",
   "execution_count": 36,
   "metadata": {},
   "outputs": [
    {
     "name": "stdout",
     "output_type": "stream",
     "text": [
      "Training ROC AUC score :  0.9246\n",
      "Test ROC AUC score :  0.8735\n"
     ]
    }
   ],
   "source": [
    "# using original features\n",
    "ligbm_model = lgb.LGBMClassifier(random_state=145)\n",
    "ligbm_model.fit(X_train[og_variable_names], y_train)\n",
    "train_pred = ligbm_model.predict_proba(X_train[og_variable_names])[:,1]\n",
    "test_pred = ligbm_model.predict_proba(X_test[og_variable_names])[:,1]\n",
    "print(\"Training ROC AUC score : \",round(roc_auc_score(y_train,train_pred),4))\n",
    "print(\"Test ROC AUC score : \",round(roc_auc_score(y_test, test_pred),4))"
   ]
  },
  {
   "cell_type": "code",
   "execution_count": 37,
   "metadata": {},
   "outputs": [
    {
     "data": {
      "text/plain": [
       "RandomizedSearchCV(cv=10, estimator=LGBMClassifier(random_state=145),\n",
       "                   param_distributions={'colsample_bytree': [0.5, 0.7, 1.0],\n",
       "                                        'learning_rate': [0.0001, 0.001, 0.01,\n",
       "                                                          0.1, 0.5, 1, 10,\n",
       "                                                          100],\n",
       "                                        'max_depth': [3, 4, 5, 6, 7, 8, 9, 10],\n",
       "                                        'n_estimators': range(50, 500, 10),\n",
       "                                        'reg_alpha': [0.01, 0.1, 1, 10, 100],\n",
       "                                        'reg_lambda': [0.01, 0.1, 1, 10, 100],\n",
       "                                        'subsample': [0.5, 0.7, 1.0]})"
      ]
     },
     "execution_count": 37,
     "metadata": {},
     "output_type": "execute_result"
    }
   ],
   "source": [
    "# param_grid = {\n",
    "#     'n_estimators': range(50,500,10),\n",
    "#     'max_depth': [3, 4, 5, 6,7,8,9,10],\n",
    "#     'learning_rate': [0.0001,0.001,0.01, 0.1, 0.5,1,10,100],\n",
    "#     'subsample': [0.5, 0.7, 1.0],\n",
    "#     'colsample_bytree': [0.5, 0.7, 1.0],\n",
    "#     'reg_lambda' :  [0.01,0.1, 1, 10, 100],\n",
    "#     'reg_alpha' : [0.01,0.1, 1, 10,100]\n",
    "# }\n",
    "\n",
    "# rand_search = RandomizedSearchCV(ligbm_model,\n",
    "#                                  param_distributions = param_grid,\n",
    "#                                  cv=10)\n",
    "\n",
    "# # Fit the random search object to the data\n",
    "# rand_search.fit(X_train[og_variable_names], y_train)"
   ]
  },
  {
   "cell_type": "code",
   "execution_count": 51,
   "metadata": {},
   "outputs": [],
   "source": [
    "# cv_results = pd.DataFrame(rand_search.cv_results_)"
   ]
  },
  {
   "cell_type": "code",
   "execution_count": 52,
   "metadata": {},
   "outputs": [
    {
     "data": {
      "text/html": [
       "<div>\n",
       "<style scoped>\n",
       "    .dataframe tbody tr th:only-of-type {\n",
       "        vertical-align: middle;\n",
       "    }\n",
       "\n",
       "    .dataframe tbody tr th {\n",
       "        vertical-align: top;\n",
       "    }\n",
       "\n",
       "    .dataframe thead th {\n",
       "        text-align: right;\n",
       "    }\n",
       "</style>\n",
       "<table border=\"1\" class=\"dataframe\">\n",
       "  <thead>\n",
       "    <tr style=\"text-align: right;\">\n",
       "      <th></th>\n",
       "      <th>mean_fit_time</th>\n",
       "      <th>std_fit_time</th>\n",
       "      <th>mean_score_time</th>\n",
       "      <th>std_score_time</th>\n",
       "      <th>param_subsample</th>\n",
       "      <th>param_reg_lambda</th>\n",
       "      <th>param_reg_alpha</th>\n",
       "      <th>param_n_estimators</th>\n",
       "      <th>param_max_depth</th>\n",
       "      <th>param_learning_rate</th>\n",
       "      <th>...</th>\n",
       "      <th>split3_test_score</th>\n",
       "      <th>split4_test_score</th>\n",
       "      <th>split5_test_score</th>\n",
       "      <th>split6_test_score</th>\n",
       "      <th>split7_test_score</th>\n",
       "      <th>split8_test_score</th>\n",
       "      <th>split9_test_score</th>\n",
       "      <th>mean_test_score</th>\n",
       "      <th>std_test_score</th>\n",
       "      <th>rank_test_score</th>\n",
       "    </tr>\n",
       "  </thead>\n",
       "  <tbody>\n",
       "    <tr>\n",
       "      <th>0</th>\n",
       "      <td>155.818732</td>\n",
       "      <td>433.408559</td>\n",
       "      <td>0.126300</td>\n",
       "      <td>0.024762</td>\n",
       "      <td>0.5</td>\n",
       "      <td>0.01</td>\n",
       "      <td>0.1</td>\n",
       "      <td>90</td>\n",
       "      <td>10</td>\n",
       "      <td>0.5</td>\n",
       "      <td>...</td>\n",
       "      <td>0.909875</td>\n",
       "      <td>0.909625</td>\n",
       "      <td>0.910312</td>\n",
       "      <td>0.913875</td>\n",
       "      <td>0.910188</td>\n",
       "      <td>0.911188</td>\n",
       "      <td>0.909312</td>\n",
       "      <td>0.910369</td>\n",
       "      <td>0.001620</td>\n",
       "      <td>1</td>\n",
       "    </tr>\n",
       "    <tr>\n",
       "      <th>1</th>\n",
       "      <td>8.565915</td>\n",
       "      <td>0.327529</td>\n",
       "      <td>0.119512</td>\n",
       "      <td>0.008103</td>\n",
       "      <td>0.7</td>\n",
       "      <td>0.01</td>\n",
       "      <td>0.01</td>\n",
       "      <td>100</td>\n",
       "      <td>5</td>\n",
       "      <td>1</td>\n",
       "      <td>...</td>\n",
       "      <td>0.885625</td>\n",
       "      <td>0.881938</td>\n",
       "      <td>0.885750</td>\n",
       "      <td>0.886500</td>\n",
       "      <td>0.887687</td>\n",
       "      <td>0.887938</td>\n",
       "      <td>0.886312</td>\n",
       "      <td>0.885819</td>\n",
       "      <td>0.002095</td>\n",
       "      <td>8</td>\n",
       "    </tr>\n",
       "    <tr>\n",
       "      <th>2</th>\n",
       "      <td>11.807762</td>\n",
       "      <td>0.195754</td>\n",
       "      <td>0.183306</td>\n",
       "      <td>0.007665</td>\n",
       "      <td>0.5</td>\n",
       "      <td>0.01</td>\n",
       "      <td>100</td>\n",
       "      <td>320</td>\n",
       "      <td>4</td>\n",
       "      <td>0.01</td>\n",
       "      <td>...</td>\n",
       "      <td>0.899500</td>\n",
       "      <td>0.899500</td>\n",
       "      <td>0.899500</td>\n",
       "      <td>0.899500</td>\n",
       "      <td>0.899500</td>\n",
       "      <td>0.899500</td>\n",
       "      <td>0.899500</td>\n",
       "      <td>0.899512</td>\n",
       "      <td>0.000025</td>\n",
       "      <td>3</td>\n",
       "    </tr>\n",
       "    <tr>\n",
       "      <th>3</th>\n",
       "      <td>13.427193</td>\n",
       "      <td>0.148596</td>\n",
       "      <td>0.208709</td>\n",
       "      <td>0.012132</td>\n",
       "      <td>1.0</td>\n",
       "      <td>10</td>\n",
       "      <td>10</td>\n",
       "      <td>390</td>\n",
       "      <td>4</td>\n",
       "      <td>0.01</td>\n",
       "      <td>...</td>\n",
       "      <td>0.899500</td>\n",
       "      <td>0.899500</td>\n",
       "      <td>0.899500</td>\n",
       "      <td>0.899500</td>\n",
       "      <td>0.899563</td>\n",
       "      <td>0.899500</td>\n",
       "      <td>0.899500</td>\n",
       "      <td>0.899519</td>\n",
       "      <td>0.000029</td>\n",
       "      <td>2</td>\n",
       "    </tr>\n",
       "    <tr>\n",
       "      <th>4</th>\n",
       "      <td>8.668451</td>\n",
       "      <td>0.108899</td>\n",
       "      <td>0.100535</td>\n",
       "      <td>0.008809</td>\n",
       "      <td>0.7</td>\n",
       "      <td>1</td>\n",
       "      <td>1</td>\n",
       "      <td>80</td>\n",
       "      <td>6</td>\n",
       "      <td>0.01</td>\n",
       "      <td>...</td>\n",
       "      <td>0.899500</td>\n",
       "      <td>0.899500</td>\n",
       "      <td>0.899500</td>\n",
       "      <td>0.899500</td>\n",
       "      <td>0.899500</td>\n",
       "      <td>0.899500</td>\n",
       "      <td>0.899500</td>\n",
       "      <td>0.899512</td>\n",
       "      <td>0.000025</td>\n",
       "      <td>3</td>\n",
       "    </tr>\n",
       "    <tr>\n",
       "      <th>5</th>\n",
       "      <td>6.999956</td>\n",
       "      <td>0.139302</td>\n",
       "      <td>0.070400</td>\n",
       "      <td>0.015671</td>\n",
       "      <td>1.0</td>\n",
       "      <td>100</td>\n",
       "      <td>0.1</td>\n",
       "      <td>130</td>\n",
       "      <td>7</td>\n",
       "      <td>10</td>\n",
       "      <td>...</td>\n",
       "      <td>0.699500</td>\n",
       "      <td>0.827625</td>\n",
       "      <td>0.899438</td>\n",
       "      <td>0.779062</td>\n",
       "      <td>0.868437</td>\n",
       "      <td>0.812438</td>\n",
       "      <td>0.893875</td>\n",
       "      <td>0.830838</td>\n",
       "      <td>0.058481</td>\n",
       "      <td>9</td>\n",
       "    </tr>\n",
       "    <tr>\n",
       "      <th>6</th>\n",
       "      <td>9.068620</td>\n",
       "      <td>0.147910</td>\n",
       "      <td>0.114716</td>\n",
       "      <td>0.007767</td>\n",
       "      <td>0.7</td>\n",
       "      <td>10</td>\n",
       "      <td>100</td>\n",
       "      <td>130</td>\n",
       "      <td>5</td>\n",
       "      <td>0.0001</td>\n",
       "      <td>...</td>\n",
       "      <td>0.899500</td>\n",
       "      <td>0.899500</td>\n",
       "      <td>0.899500</td>\n",
       "      <td>0.899500</td>\n",
       "      <td>0.899500</td>\n",
       "      <td>0.899500</td>\n",
       "      <td>0.899500</td>\n",
       "      <td>0.899512</td>\n",
       "      <td>0.000025</td>\n",
       "      <td>3</td>\n",
       "    </tr>\n",
       "    <tr>\n",
       "      <th>7</th>\n",
       "      <td>7.194453</td>\n",
       "      <td>0.126648</td>\n",
       "      <td>0.116276</td>\n",
       "      <td>0.016789</td>\n",
       "      <td>1.0</td>\n",
       "      <td>10</td>\n",
       "      <td>100</td>\n",
       "      <td>60</td>\n",
       "      <td>10</td>\n",
       "      <td>0.1</td>\n",
       "      <td>...</td>\n",
       "      <td>0.899500</td>\n",
       "      <td>0.899500</td>\n",
       "      <td>0.899500</td>\n",
       "      <td>0.899500</td>\n",
       "      <td>0.899500</td>\n",
       "      <td>0.899500</td>\n",
       "      <td>0.899500</td>\n",
       "      <td>0.899512</td>\n",
       "      <td>0.000025</td>\n",
       "      <td>3</td>\n",
       "    </tr>\n",
       "    <tr>\n",
       "      <th>8</th>\n",
       "      <td>12.663383</td>\n",
       "      <td>0.146859</td>\n",
       "      <td>0.126029</td>\n",
       "      <td>0.006665</td>\n",
       "      <td>0.7</td>\n",
       "      <td>1</td>\n",
       "      <td>10</td>\n",
       "      <td>90</td>\n",
       "      <td>10</td>\n",
       "      <td>0.01</td>\n",
       "      <td>...</td>\n",
       "      <td>0.899500</td>\n",
       "      <td>0.899500</td>\n",
       "      <td>0.899500</td>\n",
       "      <td>0.899500</td>\n",
       "      <td>0.899500</td>\n",
       "      <td>0.899500</td>\n",
       "      <td>0.899500</td>\n",
       "      <td>0.899512</td>\n",
       "      <td>0.000025</td>\n",
       "      <td>3</td>\n",
       "    </tr>\n",
       "    <tr>\n",
       "      <th>9</th>\n",
       "      <td>6.008239</td>\n",
       "      <td>0.135387</td>\n",
       "      <td>0.064580</td>\n",
       "      <td>0.004635</td>\n",
       "      <td>1.0</td>\n",
       "      <td>1</td>\n",
       "      <td>1</td>\n",
       "      <td>60</td>\n",
       "      <td>5</td>\n",
       "      <td>100</td>\n",
       "      <td>...</td>\n",
       "      <td>0.707063</td>\n",
       "      <td>0.444563</td>\n",
       "      <td>0.133500</td>\n",
       "      <td>0.672750</td>\n",
       "      <td>0.899438</td>\n",
       "      <td>0.422000</td>\n",
       "      <td>0.896750</td>\n",
       "      <td>0.633381</td>\n",
       "      <td>0.255042</td>\n",
       "      <td>10</td>\n",
       "    </tr>\n",
       "  </tbody>\n",
       "</table>\n",
       "<p>10 rows × 25 columns</p>\n",
       "</div>"
      ],
      "text/plain": [
       "   mean_fit_time  std_fit_time  mean_score_time  std_score_time  \\\n",
       "0     155.818732    433.408559         0.126300        0.024762   \n",
       "1       8.565915      0.327529         0.119512        0.008103   \n",
       "2      11.807762      0.195754         0.183306        0.007665   \n",
       "3      13.427193      0.148596         0.208709        0.012132   \n",
       "4       8.668451      0.108899         0.100535        0.008809   \n",
       "5       6.999956      0.139302         0.070400        0.015671   \n",
       "6       9.068620      0.147910         0.114716        0.007767   \n",
       "7       7.194453      0.126648         0.116276        0.016789   \n",
       "8      12.663383      0.146859         0.126029        0.006665   \n",
       "9       6.008239      0.135387         0.064580        0.004635   \n",
       "\n",
       "  param_subsample param_reg_lambda param_reg_alpha param_n_estimators  \\\n",
       "0             0.5             0.01             0.1                 90   \n",
       "1             0.7             0.01            0.01                100   \n",
       "2             0.5             0.01             100                320   \n",
       "3             1.0               10              10                390   \n",
       "4             0.7                1               1                 80   \n",
       "5             1.0              100             0.1                130   \n",
       "6             0.7               10             100                130   \n",
       "7             1.0               10             100                 60   \n",
       "8             0.7                1              10                 90   \n",
       "9             1.0                1               1                 60   \n",
       "\n",
       "  param_max_depth param_learning_rate  ... split3_test_score  \\\n",
       "0              10                 0.5  ...          0.909875   \n",
       "1               5                   1  ...          0.885625   \n",
       "2               4                0.01  ...          0.899500   \n",
       "3               4                0.01  ...          0.899500   \n",
       "4               6                0.01  ...          0.899500   \n",
       "5               7                  10  ...          0.699500   \n",
       "6               5              0.0001  ...          0.899500   \n",
       "7              10                 0.1  ...          0.899500   \n",
       "8              10                0.01  ...          0.899500   \n",
       "9               5                 100  ...          0.707063   \n",
       "\n",
       "  split4_test_score  split5_test_score  split6_test_score  split7_test_score  \\\n",
       "0          0.909625           0.910312           0.913875           0.910188   \n",
       "1          0.881938           0.885750           0.886500           0.887687   \n",
       "2          0.899500           0.899500           0.899500           0.899500   \n",
       "3          0.899500           0.899500           0.899500           0.899563   \n",
       "4          0.899500           0.899500           0.899500           0.899500   \n",
       "5          0.827625           0.899438           0.779062           0.868437   \n",
       "6          0.899500           0.899500           0.899500           0.899500   \n",
       "7          0.899500           0.899500           0.899500           0.899500   \n",
       "8          0.899500           0.899500           0.899500           0.899500   \n",
       "9          0.444563           0.133500           0.672750           0.899438   \n",
       "\n",
       "   split8_test_score  split9_test_score  mean_test_score  std_test_score  \\\n",
       "0           0.911188           0.909312         0.910369        0.001620   \n",
       "1           0.887938           0.886312         0.885819        0.002095   \n",
       "2           0.899500           0.899500         0.899512        0.000025   \n",
       "3           0.899500           0.899500         0.899519        0.000029   \n",
       "4           0.899500           0.899500         0.899512        0.000025   \n",
       "5           0.812438           0.893875         0.830838        0.058481   \n",
       "6           0.899500           0.899500         0.899512        0.000025   \n",
       "7           0.899500           0.899500         0.899512        0.000025   \n",
       "8           0.899500           0.899500         0.899512        0.000025   \n",
       "9           0.422000           0.896750         0.633381        0.255042   \n",
       "\n",
       "   rank_test_score  \n",
       "0                1  \n",
       "1                8  \n",
       "2                3  \n",
       "3                2  \n",
       "4                3  \n",
       "5                9  \n",
       "6                3  \n",
       "7                3  \n",
       "8                3  \n",
       "9               10  \n",
       "\n",
       "[10 rows x 25 columns]"
      ]
     },
     "execution_count": 52,
     "metadata": {},
     "output_type": "execute_result"
    }
   ],
   "source": [
    "cv_results"
   ]
  },
  {
   "cell_type": "code",
   "execution_count": 53,
   "metadata": {},
   "outputs": [],
   "source": [
    "# best_rf = rand_search.best_estimator_\n",
    "\n",
    "# # Print the best hyperparameters\n",
    "# print('Best hyperparameters:',  rand_search.best_params_)"
   ]
  },
  {
   "cell_type": "code",
   "execution_count": 40,
   "metadata": {},
   "outputs": [
    {
     "name": "stdout",
     "output_type": "stream",
     "text": [
      "Training ROC AUC score :  0.9019\n",
      "Test ROC AUC score :  0.8737\n"
     ]
    }
   ],
   "source": [
    "# using original features\n",
    "\n",
    "\n",
    "ligbm_model = lgb.LGBMClassifier(subsample= 0.5, reg_lambda= 0.1,\n",
    "                                 reg_alpha= 1, n_estimators= 450,\n",
    "                                 max_depth= 3, learning_rate= 0.05, \n",
    "                                 colsample_bytree= 1,random_state=145,\n",
    "                                 is_unbalance=True,min_data_in_bin=10)\n",
    "ligbm_model.fit(X_train[og_variable_names], y_train)\n",
    "train_pred = ligbm_model.predict_proba(X_train[og_variable_names])[:,1]\n",
    "test_pred = ligbm_model.predict_proba(X_test[og_variable_names])[:,1]\n",
    "print(\"Training ROC AUC score : \",round(roc_auc_score(y_train,train_pred),4))\n",
    "print(\"Test ROC AUC score : \",round(roc_auc_score(y_test, test_pred),4))"
   ]
  },
  {
   "cell_type": "markdown",
   "metadata": {},
   "source": [
    "Hyper parameter tuning is used fine tune the model by reducing over fitting if there is any.<br>\n",
    "Important parameters(not limited to) that reduce overfitting are : <br>\n",
    "* max_depth\n",
    "* min_data_in_bin<br>\n",
    "\n",
    "Parameter that handles data imbalance is :\n",
    "* is_unbalance\n"
   ]
  },
  {
   "cell_type": "markdown",
   "metadata": {},
   "source": [
    "# Final Variables of Model"
   ]
  },
  {
   "cell_type": "code",
   "execution_count": 41,
   "metadata": {},
   "outputs": [],
   "source": [
    "# feature_imp = pd.DataFrame(sorted(zip(ligbm_model.feature_importances_,X_train[og_variable_names].columns)), columns=['Value','Feature'])\n",
    "# feature_imp = feature_imp.sort_values(by='Value', ascending=False)\n",
    "# feature_imp[feature_imp['Value']>0]"
   ]
  },
  {
   "cell_type": "markdown",
   "metadata": {},
   "source": [
    "LiGBM model has selected 155/200 variables as final variables"
   ]
  },
  {
   "cell_type": "code",
   "execution_count": 42,
   "metadata": {},
   "outputs": [],
   "source": [
    "def plotImp(model, X , num = 20, fig_size = (40, 20)):\n",
    "    feature_imp = pd.DataFrame({'Value':model.feature_importances_,'Feature':X.columns})\n",
    "    plt.figure(figsize=fig_size)\n",
    "    sns.set(font_scale = 5)\n",
    "    sns.barplot(x=\"Value\", y=\"Feature\", data=feature_imp.sort_values(by=\"Value\", \n",
    "                                                        ascending=False)[0:num])\n",
    "    plt.title('LightGBM Top 20 Features')\n",
    "    plt.tight_layout()\n",
    "    plt.savefig('lgbm_importances-01.png')\n",
    "    plt.show()"
   ]
  },
  {
   "cell_type": "code",
   "execution_count": 43,
   "metadata": {},
   "outputs": [
    {
     "data": {
      "image/png": "[encoded data removed]",
      "text/plain": [
       "<Figure size 4000x2000 with 1 Axes>"
      ]
     },
     "metadata": {},
     "output_type": "display_data"
    }
   ],
   "source": [
    "plotImp(ligbm_model,X_train[og_variable_names],num = 20)\n"
   ]
  },
  {
   "cell_type": "markdown",
   "metadata": {},
   "source": [
    "# Model Evaluation"
   ]
  },
  {
   "cell_type": "code",
   "execution_count": 44,
   "metadata": {},
   "outputs": [],
   "source": [
    "\n",
    "test_df['target'] = ligbm_model.predict_proba(test_df[og_variable_names])[:,1]"
   ]
  },
  {
   "cell_type": "code",
   "execution_count": 45,
   "metadata": {},
   "outputs": [],
   "source": [
    "# Exporting in required format\n",
    "sample_df = pd.read_csv('sample_submission.csv')"
   ]
  },
  {
   "cell_type": "code",
   "execution_count": 46,
   "metadata": {},
   "outputs": [
    {
     "data": {
      "text/html": [
       "<div>\n",
       "<style scoped>\n",
       "    .dataframe tbody tr th:only-of-type {\n",
       "        vertical-align: middle;\n",
       "    }\n",
       "\n",
       "    .dataframe tbody tr th {\n",
       "        vertical-align: top;\n",
       "    }\n",
       "\n",
       "    .dataframe thead th {\n",
       "        text-align: right;\n",
       "    }\n",
       "</style>\n",
       "<table border=\"1\" class=\"dataframe\">\n",
       "  <thead>\n",
       "    <tr style=\"text-align: right;\">\n",
       "      <th></th>\n",
       "      <th>ID_code</th>\n",
       "      <th>target</th>\n",
       "    </tr>\n",
       "  </thead>\n",
       "  <tbody>\n",
       "    <tr>\n",
       "      <th>0</th>\n",
       "      <td>test_0</td>\n",
       "      <td>0</td>\n",
       "    </tr>\n",
       "    <tr>\n",
       "      <th>1</th>\n",
       "      <td>test_1</td>\n",
       "      <td>0</td>\n",
       "    </tr>\n",
       "    <tr>\n",
       "      <th>2</th>\n",
       "      <td>test_2</td>\n",
       "      <td>0</td>\n",
       "    </tr>\n",
       "    <tr>\n",
       "      <th>3</th>\n",
       "      <td>test_3</td>\n",
       "      <td>0</td>\n",
       "    </tr>\n",
       "    <tr>\n",
       "      <th>4</th>\n",
       "      <td>test_4</td>\n",
       "      <td>0</td>\n",
       "    </tr>\n",
       "  </tbody>\n",
       "</table>\n",
       "</div>"
      ],
      "text/plain": [
       "  ID_code  target\n",
       "0  test_0       0\n",
       "1  test_1       0\n",
       "2  test_2       0\n",
       "3  test_3       0\n",
       "4  test_4       0"
      ]
     },
     "execution_count": 46,
     "metadata": {},
     "output_type": "execute_result"
    }
   ],
   "source": [
    "sample_df.head()"
   ]
  },
  {
   "cell_type": "code",
   "execution_count": 47,
   "metadata": {},
   "outputs": [],
   "source": [
    "test_df[['ID_code','target']].to_csv(\"Submission.csv\")"
   ]
  },
  {
   "cell_type": "markdown",
   "metadata": {},
   "source": [
    "## Performance Evaluation"
   ]
  },
  {
   "cell_type": "markdown",
   "metadata": {},
   "source": [
    "\n",
    "|data sample|AUC ROC score|\n",
    "| --- |---|\n",
    "|X_train | 0.9019 |\n",
    "|X_validation | 0.8737 |\n",
    "|test sample(kaggle public score) | 0.86691|\n",
    "|test sample(kaggle private score) | 0.86285|"
   ]
  },
  {
   "cell_type": "markdown",
   "metadata": {},
   "source": [
    "# Model Applicability in real life"
   ]
  },
  {
   "cell_type": "code",
   "execution_count": 48,
   "metadata": {},
   "outputs": [],
   "source": [
    "train_df['prob_class1'] = ligbm_model.predict_proba(train_df[og_variable_names])[:,1]\n",
    "train_df['prob_class0'] = ligbm_model.predict_proba(train_df[og_variable_names])[:,0]"
   ]
  },
  {
   "cell_type": "code",
   "execution_count": 49,
   "metadata": {},
   "outputs": [],
   "source": [
    "train_df['class1_bins'] = pd.qcut(train_df['prob_class1'], 5)"
   ]
  },
  {
   "cell_type": "code",
   "execution_count": 50,
   "metadata": {},
   "outputs": [
    {
     "data": {
      "text/html": [
       "<div>\n",
       "<style scoped>\n",
       "    .dataframe tbody tr th:only-of-type {\n",
       "        vertical-align: middle;\n",
       "    }\n",
       "\n",
       "    .dataframe tbody tr th {\n",
       "        vertical-align: top;\n",
       "    }\n",
       "\n",
       "    .dataframe thead tr th {\n",
       "        text-align: left;\n",
       "    }\n",
       "\n",
       "    .dataframe thead tr:last-of-type th {\n",
       "        text-align: right;\n",
       "    }\n",
       "</style>\n",
       "<table border=\"1\" class=\"dataframe\">\n",
       "  <thead>\n",
       "    <tr>\n",
       "      <th></th>\n",
       "      <th colspan=\"2\" halign=\"left\">target</th>\n",
       "    </tr>\n",
       "    <tr>\n",
       "      <th></th>\n",
       "      <th>count</th>\n",
       "      <th>mean</th>\n",
       "    </tr>\n",
       "    <tr>\n",
       "      <th>class1_bins</th>\n",
       "      <th></th>\n",
       "      <th></th>\n",
       "    </tr>\n",
       "  </thead>\n",
       "  <tbody>\n",
       "    <tr>\n",
       "      <th>(0.521, 0.981]</th>\n",
       "      <td>40000</td>\n",
       "      <td>0.380825</td>\n",
       "    </tr>\n",
       "    <tr>\n",
       "      <th>(0.396, 0.521]</th>\n",
       "      <td>40000</td>\n",
       "      <td>0.078000</td>\n",
       "    </tr>\n",
       "    <tr>\n",
       "      <th>(0.309, 0.396]</th>\n",
       "      <td>40000</td>\n",
       "      <td>0.028575</td>\n",
       "    </tr>\n",
       "    <tr>\n",
       "      <th>(0.232, 0.309]</th>\n",
       "      <td>40000</td>\n",
       "      <td>0.012000</td>\n",
       "    </tr>\n",
       "    <tr>\n",
       "      <th>(0.0587, 0.232]</th>\n",
       "      <td>40000</td>\n",
       "      <td>0.003050</td>\n",
       "    </tr>\n",
       "  </tbody>\n",
       "</table>\n",
       "</div>"
      ],
      "text/plain": [
       "                target          \n",
       "                 count      mean\n",
       "class1_bins                     \n",
       "(0.521, 0.981]   40000  0.380825\n",
       "(0.396, 0.521]   40000  0.078000\n",
       "(0.309, 0.396]   40000  0.028575\n",
       "(0.232, 0.309]   40000  0.012000\n",
       "(0.0587, 0.232]  40000  0.003050"
      ]
     },
     "execution_count": 50,
     "metadata": {},
     "output_type": "execute_result"
    }
   ],
   "source": [
    "train_df[['class1_bins','target']].groupby('class1_bins').agg(['count','mean']).sort_values('class1_bins',ascending=False)"
   ]
  },
  {
   "cell_type": "markdown",
   "metadata": {},
   "source": [
    "This scorecard categorizes applications by their assigned probabilities and transaction rates:\n",
    "\n",
    "- The first column shows probability bins.\n",
    "- The second column has application counts (40,000 each).\n",
    "- The third column indicates percentage transactions made in each bin.\n",
    "\n",
    "Key insights:\n",
    "\n",
    "- As probability increases, transaction rates increase.\n",
    "- Low-probability range: (0.0587, 0.232] with 0.30% transaction rate.\n",
    "- High-probability range: (0.521, 0.981] with 38.08% transaction rate.\n",
    "- Valuable for outcome-based decisions, resource allocation, and model improvement."
   ]
  },
  {
   "cell_type": "markdown",
   "metadata": {},
   "source": [
    "# Model deployment"
   ]
  },
  {
   "cell_type": "markdown",
   "metadata": {},
   "source": [
    "Please find below an approach for productionization of a machine learning model stored in a **pickle file** using AWS SageMaker:\n",
    "\n",
    "**a. Tools and Technologies:**\n",
    "\n",
    "1. **Amazon SageMaker:** The core service for building, training, and deploying machine learning models.\n",
    "2. **Amazon S3:** To store the pickle model file and any additional data.\n",
    "3. **Amazon Lambda:** For serverless execution of code, like preprocessing data or invoking the SageMaker endpoint.\n",
    "4. **Amazon API Gateway:** To create APIs for the model's predictions.\n",
    "5. **Amazon CloudWatch:** For monitoring and logging.\n",
    "6. **AWS Identity and Access Management (IAM):** For managing permissions and roles.\n",
    "\n",
    "**b. Architecture Design:**\n",
    "\n",
    "1. **Data Preparation and Model Training:**\n",
    "   - Upload the pickle model file and any necessary dependencies to an S3 bucket.\n",
    "\n",
    "2. **Model Deployment:**\n",
    "   - Deploy the model as an endpoint in SageMaker.\n",
    "   \n",
    "3. **API Creation:**\n",
    "   - Use Amazon Lambda to preprocess incoming data (if needed) and make predictions using the deployed SageMaker endpoint.\n",
    "   - Create an API using Amazon API Gateway that triggers the Lambda function, effectively exposing your model as an API endpoint.\n",
    "\n",
    "**c. Scheduling and Monitoring:**\n",
    "\n",
    "1. **Monitoring:**\n",
    "   - Set up CloudWatch metrics to monitor endpoint health, performance, and resource usage.\n",
    "   - Set up CloudWatch Logs for logging relevant events and activities.\n",
    "\n",
    "2. **Alerting:**\n",
    "   - Configure CloudWatch alarms to trigger notifications if certain conditions (e.g., high error rate) are met.\n",
    "\n",
    "3. **Scheduling:**\n",
    "   - If your model requires periodic updates, use AWS Step Functions to automate the process: trigger data preparation, training, and model deployment in a sequential manner.\n",
    "\n",
    "**d. Scaling:**\n",
    "\n",
    "1. **Model Scaling:**\n",
    "   - SageMaker automatically scales the deployed model based on the incoming traffic. You can adjust the instance count and type to handle varying loads.\n",
    "\n",
    "2. **Endpoint Scaling:**\n",
    "   - For high traffic scenarios, you can deploy multiple instances of your endpoint behind a load balancer to distribute requests.\n",
    "\n",
    "3. **Data Preprocessing:**\n",
    "   - If preprocessing is resource-intensive, use Lambda's auto-scaling to handle concurrent preprocessing requests.\n",
    "\n",
    "4. **API Scaling:**\n",
    "   - API Gateway automatically scales based on incoming API traffic.\n",
    "\n",
    "By following this architecture, you can effectively productionize your model stored in a pickle file using Amazon SageMaker, leveraging various AWS services for deployment, monitoring, scaling, and automation."
   ]
  },
  {
   "cell_type": "code",
   "execution_count": null,
   "metadata": {},
   "outputs": [],
   "source": []
  }
 ],
 "metadata": {
  "kernelspec": {
   "display_name": "Python 3 (ipykernel)",
   "language": "python",
   "name": "python3"
  },
  "language_info": {
   "codemirror_mode": {
    "name": "ipython",
    "version": 3
   },
   "file_extension": ".py",
   "mimetype": "text/x-python",
   "name": "python",
   "nbconvert_exporter": "python",
   "pygments_lexer": "ipython3",
   "version": "3.9.13"
  }
 },
 "nbformat": 4,
 "nbformat_minor": 2
}
